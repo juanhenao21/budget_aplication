{
 "cells": [
  {
   "cell_type": "code",
   "execution_count": 1,
   "metadata": {},
   "outputs": [],
   "source": [
    "import pandas as pd\n",
    "import numpy as np"
   ]
  },
  {
   "cell_type": "code",
   "execution_count": 2,
   "metadata": {},
   "outputs": [],
   "source": [
    "def start_resources():\n",
    "    print('Enter the initial data')\n",
    "    type_ = 'Income'\n",
    "    category = 'Initial money'\n",
    "    date = str(input('Date (YYYY-MM-DD): ') or '2019-05-05')\n",
    "    item = str(input('Name of the transaction: ') or 'Initial available money')\n",
    "    amount = float(input('Amount: ') or 1200.)\n",
    "    x = [type_, category, date, item, amount]\n",
    "    return x"
   ]
  },
  {
   "cell_type": "code",
   "execution_count": 3,
   "metadata": {},
   "outputs": [],
   "source": [
    "def start_check(filename_budget, filename_transactions):\n",
    "\n",
    "    try:\n",
    "        df = pd.read_csv(filename_transactions)\n",
    "        budget_df = pd.read_csv(filename_budget)\n",
    "        return (df, budget_df)\n",
    "\n",
    "    except FileNotFoundError:\n",
    "        data = start_resources()\n",
    "        val = {'Type': data[0], 'Category': data[1], 'Date': data[2], 'Item': data[3], 'Amount': data[4]}\n",
    "        df = pd.DataFrame(val, index=[0])\n",
    "        budget_df = pd.DataFrame({'Available': data[4]}, index=[0])\n",
    "        print('New budget created.')\n",
    "        print()\n",
    "        return (df, budget_df)"
   ]
  },
  {
   "cell_type": "code",
   "execution_count": 4,
   "metadata": {},
   "outputs": [],
   "source": [
    "def category(budget_df):\n",
    "        \n",
    "    name = str(input('Insert the name of the category: '))\n",
    "    amount = float(input('Insert the amount to be budgeted: '))\n",
    "    print()\n",
    "    budget_df[name] = amount\n",
    "    budget_df['Available'] -= amount\n",
    "    return budget_df"
   ]
  },
  {
   "cell_type": "code",
   "execution_count": 5,
   "metadata": {},
   "outputs": [],
   "source": [
    "def menu():\n",
    "    print('\"c\" to add a category')\n",
    "    print('\"a\" to add a transaction')\n",
    "    print('\"n\" to budget the avalible money' )\n",
    "    print('\"dc\" to delete a category')\n",
    "    print('\"d\" to delete the last transaction')\n",
    "    print('\"l\" to list all transactions')\n",
    "    print('\"b\" to show the total available money')\n",
    "    print('\"s\" to save')\n",
    "    print('\"q\" to quit')\n",
    "    print()"
   ]
  },
  {
   "cell_type": "code",
   "execution_count": 6,
   "metadata": {},
   "outputs": [],
   "source": [
    "def input_transaction(operation, budget_df):\n",
    "    category = str(input('Category: ') or 'Groceries')\n",
    "    if (category in list(budget_df)):\n",
    "        date = str(input('Date (YYYY-MM-DD): ') or '2019-05-05')\n",
    "        item = str(input('Item: ') or 'Groceries')\n",
    "        if (operation == 'e'):\n",
    "            amount = float(input('Amount: ') or 20.)\n",
    "            type_ = 'Income'\n",
    "\n",
    "        elif (operation == 'p'):\n",
    "            amount = - float(input('Amount: ') or 20.)\n",
    "            type_ = 'Outcome'\n",
    "        budgeted = False\n",
    "        x = [type_, category, date, item, amount]\n",
    "        return x\n",
    "    else:\n",
    "        print('The category has not been yet created')\n",
    "        print('You can use one of the following categories: ')\n",
    "        a = [print(i,'\\n') for i in list(budget_df)]\n",
    "        print('Or create a new category using the option \"c\"')\n",
    "        print()\n",
    "        return None"
   ]
  },
  {
   "cell_type": "code",
   "execution_count": 7,
   "metadata": {},
   "outputs": [],
   "source": [
    "def add_transaction(df, budget_df):\n",
    "    operation = input('Entrance (e) or Payment (p): ')\n",
    "    if (operation == 'e' or operation == 'p'):\n",
    "        entry = input_transaction(operation, budget_df)\n",
    "        if entry:\n",
    "            df = df.append(pd.Series(entry, index=list(df.columns)), ignore_index=True)\n",
    "            if (operation == 'e'):\n",
    "                budget_df['Total'] += entry[-1]\n",
    "                return (df, budget_df)\n",
    "            elif (operation == 'p'):\n",
    "                budget_df[entry[1]] += entry[-1]\n",
    "                return (df, budget_df)\n",
    "        else:\n",
    "            return (df, budget_df)\n",
    "        \n",
    "    else:\n",
    "        print('Enter a valid entrance.')\n",
    "        print()\n",
    "        return (df, budget_df)"
   ]
  },
  {
   "cell_type": "code",
   "execution_count": 8,
   "metadata": {},
   "outputs": [],
   "source": [
    "def delete_transaction(df):\n",
    "    idx = int(input('Enter the index of the row that you want to delete: '))\n",
    "    df = df.drop(df.index[idx])\n",
    "    print('Row {} deleted.'.format(idx))\n",
    "    print()\n",
    "    return df"
   ]
  },
  {
   "cell_type": "code",
   "execution_count": 9,
   "metadata": {},
   "outputs": [],
   "source": [
    "def delete_category(budget_df):\n",
    "    cat = input('Enter the name of the category that you want to delete: ')\n",
    "    print()\n",
    "    budget_df['Available'] += budget_df[cat]\n",
    "    budget_df = budget_df.drop(cat, axis=1)\n",
    "    return budget_df"
   ]
  },
  {
   "cell_type": "code",
   "execution_count": 10,
   "metadata": {},
   "outputs": [],
   "source": [
    "def list_transactions(df):\n",
    "    print(df)\n",
    "    print()"
   ]
  },
  {
   "cell_type": "code",
   "execution_count": 11,
   "metadata": {},
   "outputs": [],
   "source": [
    "def show_budget(budget_df):\n",
    "    print(budget_df)\n",
    "    print()"
   ]
  },
  {
   "cell_type": "code",
   "execution_count": 12,
   "metadata": {},
   "outputs": [],
   "source": [
    "def save_budget(df, budget_df):\n",
    "    df.to_csv(filename_transactions, index=False)\n",
    "    budget_df.to_csv(filename_budget, index=False)\n",
    "    print('Data saved.')\n",
    "    print()\n",
    "    return None"
   ]
  },
  {
   "cell_type": "code",
   "execution_count": 13,
   "metadata": {},
   "outputs": [],
   "source": [
    "def quit(df, budget_df):\n",
    "    save_budget(df, budget_df)\n",
    "    print('Chao')\n",
    "    return False"
   ]
  },
  {
   "cell_type": "code",
   "execution_count": 14,
   "metadata": {},
   "outputs": [],
   "source": [
    "def balance(df):\n",
    "    print('The total amount of money available is {} euros'.format(np.sum(df['Amount'])))\n",
    "    print()"
   ]
  },
  {
   "cell_type": "code",
   "execution_count": 17,
   "metadata": {},
   "outputs": [
    {
     "name": "stdout",
     "output_type": "stream",
     "text": [
      "   Available  CrossFit  Groceries  Internet\n",
      "0     1005.0      80.0      100.0      15.0\n",
      "\n",
      "\"c\" to add a category\n",
      "\"a\" to add a transaction\n",
      "\"n\" to budget the avalible money\n",
      "\"dc\" to delete a category\n",
      "\"d\" to delete the last transaction\n",
      "\"l\" to list all transactions\n",
      "\"b\" to show the total available money\n",
      "\"s\" to save\n",
      "\"q\" to quit\n",
      "\n",
      "Enter command: l\n",
      "\n",
      "     Type       Category        Date                     Item  Amount\n",
      "0  Income  Initial money  2019-05-05  Initial available money  1200.0\n",
      "\n",
      "   Available  CrossFit  Groceries  Internet\n",
      "0     1005.0      80.0      100.0      15.0\n",
      "\n",
      "\"c\" to add a category\n",
      "\"a\" to add a transaction\n",
      "\"n\" to budget the avalible money\n",
      "\"dc\" to delete a category\n",
      "\"d\" to delete the last transaction\n",
      "\"l\" to list all transactions\n",
      "\"b\" to show the total available money\n",
      "\"s\" to save\n",
      "\"q\" to quit\n",
      "\n",
      "Enter command: q\n",
      "\n",
      "Data saved.\n",
      "\n",
      "Chao\n"
     ]
    }
   ],
   "source": [
    "filename_budget  = 'budget.csv'\n",
    "filename_transactions = 'transactions.csv'\n",
    "\n",
    "df, budget_df = start_check(filename_budget, filename_transactions)\n",
    "\n",
    "loop = True\n",
    "while loop:\n",
    "\n",
    "    show_budget(budget_df)\n",
    "    \n",
    "    menu()\n",
    "    \n",
    "    command = input('Enter command: ')\n",
    "    print()\n",
    "    \n",
    "    if (command == 'c'):\n",
    "        budget_df = category(budget_df)\n",
    "    elif (command == 'a'):\n",
    "        df, budget_df = add_transaction(df, budget_df)\n",
    "    elif (command == 'n'):\n",
    "        pass\n",
    "    elif (command == 'dc'):\n",
    "        budget_df = delete_category(budget_df)\n",
    "    elif (command == 'd'):\n",
    "        df = delete_transaction(df)\n",
    "    elif (command == 'l'):\n",
    "        list_transactions(df)\n",
    "    elif (command == 'b'):\n",
    "        balance(df)\n",
    "    elif (command == 's'):\n",
    "        save_budget(df, budget_df)\n",
    "    elif (command == 'q'):\n",
    "        loop = quit(df, budget_df)\n",
    "    else:\n",
    "        print('Choose an option from the menu')\n",
    "        print()"
   ]
  },
  {
   "cell_type": "code",
   "execution_count": null,
   "metadata": {},
   "outputs": [],
   "source": []
  },
  {
   "cell_type": "code",
   "execution_count": null,
   "metadata": {},
   "outputs": [],
   "source": []
  }
 ],
 "metadata": {
  "kernelspec": {
   "display_name": "Python 3",
   "language": "python",
   "name": "python3"
  },
  "language_info": {
   "codemirror_mode": {
    "name": "ipython",
    "version": 3
   },
   "file_extension": ".py",
   "mimetype": "text/x-python",
   "name": "python",
   "nbconvert_exporter": "python",
   "pygments_lexer": "ipython3",
   "version": "3.6.5"
  }
 },
 "nbformat": 4,
 "nbformat_minor": 2
}
